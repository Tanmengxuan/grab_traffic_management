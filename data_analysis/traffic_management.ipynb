{
 "cells": [
  {
   "cell_type": "code",
   "execution_count": 3,
   "metadata": {},
   "outputs": [],
   "source": [
    "import pandas as pd\n",
    "import numpy as np\n",
    "import time\n",
    "import matplotlib.pyplot as plt\n",
    "import h5py\n",
    "# import geohash\n",
    "from sklearn.cluster import KMeans\n",
    "import json"
   ]
  },
  {
   "cell_type": "code",
   "execution_count": 3,
   "metadata": {},
   "outputs": [],
   "source": [
    "#1\n",
    "data = pd.read_csv('/home/share/grab_traffic_management/raw_data/training.csv' ,sep=\",\")"
   ]
  },
  {
   "cell_type": "code",
   "execution_count": 4,
   "metadata": {},
   "outputs": [],
   "source": [
    "#2\n",
    "coord = data.groupby(['geohash6']).size().reset_index(name='counts')\n",
    "\n",
    "# all unique geohash6\n",
    "coord_array = coord['geohash6'].values"
   ]
  },
  {
   "cell_type": "code",
   "execution_count": 5,
   "metadata": {},
   "outputs": [
    {
     "data": {
      "text/plain": [
       "array(['qp02yc', 'qp02yf', 'qp02yu', ..., 'qp0dnh', 'qp0dnj', 'qp0dnn'],\n",
       "      dtype=object)"
      ]
     },
     "execution_count": 5,
     "metadata": {},
     "output_type": "execute_result"
    }
   ],
   "source": [
    "coord_array"
   ]
  },
  {
   "cell_type": "code",
   "execution_count": 6,
   "metadata": {},
   "outputs": [
    {
     "data": {
      "text/plain": [
       "array([[-5.48492432, 90.65368652],\n",
       "       [-5.47943115, 90.65368652],\n",
       "       [-5.46844482, 90.65368652],\n",
       "       ...,\n",
       "       [-5.24871826, 90.97229004],\n",
       "       [-5.2432251 , 90.97229004],\n",
       "       [-5.23773193, 90.97229004]])"
      ]
     },
     "execution_count": 6,
     "metadata": {},
     "output_type": "execute_result"
    }
   ],
   "source": [
    "gps = np.zeros((len(coord_array), 2))\n",
    "for idx in range(len(coord_array)):\n",
    "    \n",
    "    tup = geohash.decode(coord_array[idx])\n",
    "    gps[idx][0] = float(tup[0])\n",
    "    gps[idx][1] = float(tup[1])\n",
    "gps"
   ]
  },
  {
   "cell_type": "code",
   "execution_count": 69,
   "metadata": {},
   "outputs": [],
   "source": [
    "num_clusters = 13\n",
    "est = KMeans(n_clusters= num_clusters)\n",
    "est.fit(gps)\n",
    "\n",
    "gps_label = est.predict(gps)"
   ]
  },
  {
   "cell_type": "code",
   "execution_count": 70,
   "metadata": {},
   "outputs": [
    {
     "data": {
      "text/plain": [
       "<matplotlib.legend.Legend at 0x7fdb297fa2e8>"
      ]
     },
     "execution_count": 70,
     "metadata": {},
     "output_type": "execute_result"
    },
    {
     "data": {
      "image/png": "[encoded data removed]",
      "text/plain": [
       "<Figure size 720x576 with 1 Axes>"
      ]
     },
     "metadata": {
      "needs_background": "light"
     },
     "output_type": "display_data"
    }
   ],
   "source": [
    "label_type = range(num_clusters)\n",
    "\n",
    "fig, ax = plt.subplots(figsize = (10,8))\n",
    "\n",
    "for label in label_type:\n",
    "    ax.scatter(\n",
    "        gps[gps_label == label, 0], \n",
    "        gps[gps_label == label, 1],label = label, s=4)\n",
    "    \n",
    "ax.legend()"
   ]
  },
  {
   "cell_type": "code",
   "execution_count": 71,
   "metadata": {},
   "outputs": [],
   "source": [
    "gps_frame = pd.DataFrame( {'geohash6': coord_array, 'label': gps_label})"
   ]
  },
  {
   "cell_type": "code",
   "execution_count": 72,
   "metadata": {},
   "outputs": [],
   "source": [
    "feature_idx = []\n",
    "gps_list = []\n",
    "\n",
    "start_feature_idx = 0\n",
    "\n",
    "for label in label_type:\n",
    "\n",
    "    cluster = gps_frame[gps_frame['label']==label]['geohash6'].values\n",
    "    gps_list.append(cluster)\n",
    "    \n",
    "    end_feature_idx = start_feature_idx + len(cluster)\n",
    "    feature_idx.append( (start_feature_idx, end_feature_idx))\n",
    "    \n",
    "    start_feature_idx = end_feature_idx"
   ]
  },
  {
   "cell_type": "code",
   "execution_count": 73,
   "metadata": {},
   "outputs": [],
   "source": [
    "coord_array = np.concatenate(gps_list)"
   ]
  },
  {
   "cell_type": "code",
   "execution_count": 74,
   "metadata": {},
   "outputs": [
    {
     "data": {
      "text/plain": [
       "array(['qp09v1', 'qp09v4', 'qp09v7', ..., 'qp08g6', 'qp03wz', 'qp03y1'],\n",
       "      dtype=object)"
      ]
     },
     "execution_count": 74,
     "metadata": {},
     "output_type": "execute_result"
    }
   ],
   "source": [
    "coord_array"
   ]
  },
  {
   "cell_type": "code",
   "execution_count": 75,
   "metadata": {},
   "outputs": [
    {
     "data": {
      "text/plain": [
       "[(0, 97),\n",
       " (97, 186),\n",
       " (186, 280),\n",
       " (280, 369),\n",
       " (369, 497),\n",
       " (497, 605),\n",
       " (605, 692),\n",
       " (692, 794),\n",
       " (794, 888),\n",
       " (888, 1005),\n",
       " (1005, 1116),\n",
       " (1116, 1221),\n",
       " (1221, 1329)]"
      ]
     },
     "execution_count": 75,
     "metadata": {},
     "output_type": "execute_result"
    }
   ],
   "source": [
    "feature_idx"
   ]
  },
  {
   "cell_type": "code",
   "execution_count": 76,
   "metadata": {},
   "outputs": [],
   "source": [
    "#3\n",
    "# index dict of coord\n",
    "coord_dict = {}\n",
    "\n",
    "for i, j in enumerate(coord_array):\n",
    "    coord_dict[j] = i"
   ]
  },
  {
   "cell_type": "code",
   "execution_count": 77,
   "metadata": {},
   "outputs": [
    {
     "data": {
      "text/plain": [
       "20346"
      ]
     },
     "execution_count": 77,
     "metadata": {},
     "output_type": "execute_result"
    }
   ],
   "source": [
    "geohash_13c = {'coord_dict': coord_dict, 'feature_idx': feature_idx}\n",
    "\n",
    "fp = json.dumps(geohash_13c)\n",
    "\n",
    "open('/home/share/grab_traffic_management/geohash_13c.json','w').write(fp)"
   ]
  },
  {
   "cell_type": "code",
   "execution_count": 247,
   "metadata": {},
   "outputs": [],
   "source": [
    "# fp = json.loads((open('share/grab_traffic_management/geohash_3c.json','r')).read())"
   ]
  },
  {
   "cell_type": "code",
   "execution_count": 227,
   "metadata": {},
   "outputs": [
    {
     "data": {
      "text/plain": [
       "61"
      ]
     },
     "execution_count": 227,
     "metadata": {},
     "output_type": "execute_result"
    }
   ],
   "source": [
    "data['day'].max()"
   ]
  },
  {
   "cell_type": "code",
   "execution_count": 78,
   "metadata": {},
   "outputs": [],
   "source": [
    "#4\n",
    "# index dict of unique time stamps\n",
    "\n",
    "daytime_dict = {}\n",
    "count = 0\n",
    "for day in range( data['day'].min(), data['day'].max() + 1 ):\n",
    "    for hour in range(0, 24):\n",
    "        for mins in [0, 15, 30, 45]:\n",
    "            \n",
    "            daytime = '{},{}:{}'.format(day, hour, mins)\n",
    "            daytime_dict[daytime] = count\n",
    "            \n",
    "            count += 1\n",
    "            "
   ]
  },
  {
   "cell_type": "code",
   "execution_count": 79,
   "metadata": {},
   "outputs": [
    {
     "data": {
      "text/plain": [
       "array(['0:0', '0:15', '0:30', '0:45', '10:0', '10:15', '10:30', '10:45',\n",
       "       '11:0', '11:15', '11:30', '11:45', '12:0', '12:15', '12:30',\n",
       "       '12:45', '13:0', '13:15', '13:30', '13:45', '14:0', '14:15',\n",
       "       '14:30', '14:45', '15:0', '15:15', '15:30', '15:45', '16:0',\n",
       "       '16:15', '16:30', '16:45', '17:0', '17:15', '17:30', '17:45',\n",
       "       '18:0', '18:15', '18:30', '18:45', '19:0', '19:15', '19:30',\n",
       "       '19:45', '1:0', '1:15', '1:30', '1:45', '20:0', '20:15', '20:30',\n",
       "       '20:45', '21:0', '21:15', '21:30', '21:45', '22:0', '22:15',\n",
       "       '22:30', '22:45', '23:0', '23:15', '23:30', '23:45', '2:0', '2:15',\n",
       "       '2:30', '2:45', '3:0', '3:15', '3:30', '3:45', '4:0', '4:15',\n",
       "       '4:30', '4:45', '5:0', '5:15', '5:30', '5:45', '6:0', '6:15',\n",
       "       '6:30', '6:45', '7:0', '7:15', '7:30', '7:45', '8:0', '8:15',\n",
       "       '8:30', '8:45', '9:0', '9:15', '9:30', '9:45'], dtype=object)"
      ]
     },
     "execution_count": 79,
     "metadata": {},
     "output_type": "execute_result"
    }
   ],
   "source": [
    "a = data.groupby(['timestamp']).size().reset_index(name='counts')\n",
    "a['timestamp'].values"
   ]
  },
  {
   "cell_type": "code",
   "execution_count": 80,
   "metadata": {},
   "outputs": [
    {
     "data": {
      "text/plain": [
       "5856"
      ]
     },
     "execution_count": 80,
     "metadata": {},
     "output_type": "execute_result"
    }
   ],
   "source": [
    "len(daytime_dict)"
   ]
  },
  {
   "cell_type": "code",
   "execution_count": 81,
   "metadata": {},
   "outputs": [
    {
     "data": {
      "text/plain": [
       "(4206321, 4)"
      ]
     },
     "execution_count": 81,
     "metadata": {},
     "output_type": "execute_result"
    }
   ],
   "source": [
    "data.shape"
   ]
  },
  {
   "cell_type": "code",
   "execution_count": 82,
   "metadata": {},
   "outputs": [
    {
     "data": {
      "text/plain": [
       "1329"
      ]
     },
     "execution_count": 82,
     "metadata": {},
     "output_type": "execute_result"
    }
   ],
   "source": [
    "len(coord_dict)"
   ]
  },
  {
   "cell_type": "code",
   "execution_count": 83,
   "metadata": {},
   "outputs": [
    {
     "data": {
      "text/html": [
       "<div>\n",
       "<style scoped>\n",
       "    .dataframe tbody tr th:only-of-type {\n",
       "        vertical-align: middle;\n",
       "    }\n",
       "\n",
       "    .dataframe tbody tr th {\n",
       "        vertical-align: top;\n",
       "    }\n",
       "\n",
       "    .dataframe thead th {\n",
       "        text-align: right;\n",
       "    }\n",
       "</style>\n",
       "<table border=\"1\" class=\"dataframe\">\n",
       "  <thead>\n",
       "    <tr style=\"text-align: right;\">\n",
       "      <th></th>\n",
       "      <th>geohash6</th>\n",
       "      <th>day</th>\n",
       "      <th>timestamp</th>\n",
       "      <th>demand</th>\n",
       "    </tr>\n",
       "  </thead>\n",
       "  <tbody>\n",
       "    <tr>\n",
       "      <th>0</th>\n",
       "      <td>qp03wc</td>\n",
       "      <td>18</td>\n",
       "      <td>20:0</td>\n",
       "      <td>0.020072</td>\n",
       "    </tr>\n",
       "    <tr>\n",
       "      <th>1</th>\n",
       "      <td>qp03pn</td>\n",
       "      <td>10</td>\n",
       "      <td>14:30</td>\n",
       "      <td>0.024721</td>\n",
       "    </tr>\n",
       "    <tr>\n",
       "      <th>2</th>\n",
       "      <td>qp09sw</td>\n",
       "      <td>9</td>\n",
       "      <td>6:15</td>\n",
       "      <td>0.102821</td>\n",
       "    </tr>\n",
       "    <tr>\n",
       "      <th>3</th>\n",
       "      <td>qp0991</td>\n",
       "      <td>32</td>\n",
       "      <td>5:0</td>\n",
       "      <td>0.088755</td>\n",
       "    </tr>\n",
       "    <tr>\n",
       "      <th>4</th>\n",
       "      <td>qp090q</td>\n",
       "      <td>15</td>\n",
       "      <td>4:0</td>\n",
       "      <td>0.074468</td>\n",
       "    </tr>\n",
       "  </tbody>\n",
       "</table>\n",
       "</div>"
      ],
      "text/plain": [
       "  geohash6  day timestamp    demand\n",
       "0   qp03wc   18      20:0  0.020072\n",
       "1   qp03pn   10     14:30  0.024721\n",
       "2   qp09sw    9      6:15  0.102821\n",
       "3   qp0991   32       5:0  0.088755\n",
       "4   qp090q   15       4:0  0.074468"
      ]
     },
     "execution_count": 83,
     "metadata": {},
     "output_type": "execute_result"
    }
   ],
   "source": [
    "data.head()"
   ]
  },
  {
   "cell_type": "code",
   "execution_count": 84,
   "metadata": {},
   "outputs": [],
   "source": [
    "#5\n",
    "# initialize nested list to create data array of (timesteps, total_num_geohash6 )\n",
    "\n",
    "row = len(daytime_dict)\n",
    "col = len(coord_dict)\n",
    "\n",
    "assert col == 1329, 'number of unique geohashs in test set must be the same as that of the training set'\n",
    "\n",
    "\n",
    "data_nested_list =[]\n",
    "# demand = [0 for j in range(len(coord_dict))]\n",
    "\n",
    "for i in range(row):\n",
    "    \n",
    "    data_nested_list.append([0 for j in range(col)])"
   ]
  },
  {
   "cell_type": "code",
   "execution_count": 85,
   "metadata": {},
   "outputs": [],
   "source": [
    "#6\n",
    "# store all values in array\n",
    "geohash_array = data['geohash6'].values\n",
    "daytime_array = data['day'].astype(str).values + ',' + data['timestamp'].values\n",
    "demand_array = data['demand'].values"
   ]
  },
  {
   "cell_type": "code",
   "execution_count": 86,
   "metadata": {},
   "outputs": [],
   "source": [
    "#7\n",
    "\n",
    "# append values to nested list\n",
    "\n",
    "for idx in range(len(data)):\n",
    "    \n",
    "    row_idx = daytime_dict[daytime_array[idx] ]\n",
    "    col_idx = coord_dict[geohash_array[idx] ]\n",
    "    \n",
    "    data_nested_list[row_idx][col_idx] = demand_array[idx]"
   ]
  },
  {
   "cell_type": "code",
   "execution_count": 87,
   "metadata": {},
   "outputs": [],
   "source": [
    "#8\n",
    "\n",
    "# create data array\n",
    "\n",
    "data_array = np.array(data_nested_list)"
   ]
  },
  {
   "cell_type": "code",
   "execution_count": 88,
   "metadata": {},
   "outputs": [],
   "source": [
    "#9\n",
    "# save data array to file\n",
    "hf = h5py.File( '/home/share/grab_traffic_management/train_processed_13c.h5', 'w')\n",
    "\n",
    "hf.create_dataset('data', data =  data_array)\n",
    "\n",
    "hf.close()"
   ]
  },
  {
   "cell_type": "code",
   "execution_count": 19,
   "metadata": {},
   "outputs": [
    {
     "data": {
      "text/plain": [
       "(5856, 1)"
      ]
     },
     "execution_count": 19,
     "metadata": {},
     "output_type": "execute_result"
    }
   ],
   "source": [
    "data_array[:,1299].reshape(-1, 1).shape"
   ]
  },
  {
   "cell_type": "code",
   "execution_count": 14,
   "metadata": {},
   "outputs": [
    {
     "data": {
      "text/plain": [
       "array([[0.        , 0.        , 0.        , ..., 0.        , 0.00323485,\n",
       "        0.        ],\n",
       "       [0.        , 0.        , 0.        , ..., 0.        , 0.00282094,\n",
       "        0.        ],\n",
       "       [0.        , 0.        , 0.        , ..., 0.        , 0.        ,\n",
       "        0.        ],\n",
       "       ...,\n",
       "       [0.        , 0.        , 0.        , ..., 0.        , 0.        ,\n",
       "        0.        ],\n",
       "       [0.        , 0.        , 0.        , ..., 0.        , 0.        ,\n",
       "        0.        ],\n",
       "       [0.        , 0.        , 0.        , ..., 0.        , 0.        ,\n",
       "        0.        ]])"
      ]
     },
     "execution_count": 14,
     "metadata": {},
     "output_type": "execute_result"
    }
   ],
   "source": [
    "data_array[200:300]"
   ]
  },
  {
   "cell_type": "code",
   "execution_count": 15,
   "metadata": {},
   "outputs": [
    {
     "data": {
      "text/plain": [
       "(5856, 1329)"
      ]
     },
     "execution_count": 15,
     "metadata": {},
     "output_type": "execute_result"
    }
   ],
   "source": [
    "data_array.shape"
   ]
  },
  {
   "cell_type": "code",
   "execution_count": 16,
   "metadata": {},
   "outputs": [
    {
     "data": {
      "text/plain": [
       "1299"
      ]
     },
     "execution_count": 16,
     "metadata": {},
     "output_type": "execute_result"
    }
   ],
   "source": [
    "coord_dict['qp0dj5']"
   ]
  },
  {
   "cell_type": "code",
   "execution_count": 14,
   "metadata": {},
   "outputs": [
    {
     "data": {
      "text/plain": [
       "2"
      ]
     },
     "execution_count": 14,
     "metadata": {},
     "output_type": "execute_result"
    }
   ],
   "source": [
    "daytime_dict[daytime_array[80175]]"
   ]
  },
  {
   "cell_type": "code",
   "execution_count": 13,
   "metadata": {},
   "outputs": [
    {
     "data": {
      "text/plain": [
       "'1,0:30'"
      ]
     },
     "execution_count": 13,
     "metadata": {},
     "output_type": "execute_result"
    }
   ],
   "source": [
    "daytime_array[80175]"
   ]
  },
  {
   "cell_type": "code",
   "execution_count": 15,
   "metadata": {},
   "outputs": [
    {
     "data": {
      "text/html": [
       "<div>\n",
       "<style scoped>\n",
       "    .dataframe tbody tr th:only-of-type {\n",
       "        vertical-align: middle;\n",
       "    }\n",
       "\n",
       "    .dataframe tbody tr th {\n",
       "        vertical-align: top;\n",
       "    }\n",
       "\n",
       "    .dataframe thead th {\n",
       "        text-align: right;\n",
       "    }\n",
       "</style>\n",
       "<table border=\"1\" class=\"dataframe\">\n",
       "  <thead>\n",
       "    <tr style=\"text-align: right;\">\n",
       "      <th></th>\n",
       "      <th>geohash6</th>\n",
       "      <th>day</th>\n",
       "      <th>timestamp</th>\n",
       "      <th>demand</th>\n",
       "    </tr>\n",
       "  </thead>\n",
       "  <tbody>\n",
       "    <tr>\n",
       "      <th>80175</th>\n",
       "      <td>qp0dj5</td>\n",
       "      <td>1</td>\n",
       "      <td>0:30</td>\n",
       "      <td>0.029581</td>\n",
       "    </tr>\n",
       "    <tr>\n",
       "      <th>118956</th>\n",
       "      <td>qp0dj5</td>\n",
       "      <td>1</td>\n",
       "      <td>15:30</td>\n",
       "      <td>0.037087</td>\n",
       "    </tr>\n",
       "    <tr>\n",
       "      <th>197739</th>\n",
       "      <td>qp0dj5</td>\n",
       "      <td>1</td>\n",
       "      <td>5:0</td>\n",
       "      <td>0.067830</td>\n",
       "    </tr>\n",
       "    <tr>\n",
       "      <th>290188</th>\n",
       "      <td>qp0dj5</td>\n",
       "      <td>1</td>\n",
       "      <td>7:30</td>\n",
       "      <td>0.019099</td>\n",
       "    </tr>\n",
       "    <tr>\n",
       "      <th>367654</th>\n",
       "      <td>qp0dj5</td>\n",
       "      <td>1</td>\n",
       "      <td>21:30</td>\n",
       "      <td>0.003436</td>\n",
       "    </tr>\n",
       "    <tr>\n",
       "      <th>457929</th>\n",
       "      <td>qp0dj5</td>\n",
       "      <td>1</td>\n",
       "      <td>1:45</td>\n",
       "      <td>0.049659</td>\n",
       "    </tr>\n",
       "    <tr>\n",
       "      <th>462222</th>\n",
       "      <td>qp0dj5</td>\n",
       "      <td>1</td>\n",
       "      <td>9:0</td>\n",
       "      <td>0.025914</td>\n",
       "    </tr>\n",
       "    <tr>\n",
       "      <th>462588</th>\n",
       "      <td>qp0dj5</td>\n",
       "      <td>1</td>\n",
       "      <td>12:0</td>\n",
       "      <td>0.070962</td>\n",
       "    </tr>\n",
       "    <tr>\n",
       "      <th>565571</th>\n",
       "      <td>qp0dj5</td>\n",
       "      <td>1</td>\n",
       "      <td>3:15</td>\n",
       "      <td>0.013114</td>\n",
       "    </tr>\n",
       "    <tr>\n",
       "      <th>592860</th>\n",
       "      <td>qp0dj5</td>\n",
       "      <td>1</td>\n",
       "      <td>9:45</td>\n",
       "      <td>0.047876</td>\n",
       "    </tr>\n",
       "    <tr>\n",
       "      <th>624117</th>\n",
       "      <td>qp0dj5</td>\n",
       "      <td>1</td>\n",
       "      <td>2:30</td>\n",
       "      <td>0.053830</td>\n",
       "    </tr>\n",
       "    <tr>\n",
       "      <th>646063</th>\n",
       "      <td>qp0dj5</td>\n",
       "      <td>1</td>\n",
       "      <td>6:30</td>\n",
       "      <td>0.042840</td>\n",
       "    </tr>\n",
       "    <tr>\n",
       "      <th>672346</th>\n",
       "      <td>qp0dj5</td>\n",
       "      <td>1</td>\n",
       "      <td>4:45</td>\n",
       "      <td>0.078897</td>\n",
       "    </tr>\n",
       "    <tr>\n",
       "      <th>687135</th>\n",
       "      <td>qp0dj5</td>\n",
       "      <td>1</td>\n",
       "      <td>8:45</td>\n",
       "      <td>0.043772</td>\n",
       "    </tr>\n",
       "    <tr>\n",
       "      <th>757665</th>\n",
       "      <td>qp0dj5</td>\n",
       "      <td>1</td>\n",
       "      <td>2:45</td>\n",
       "      <td>0.031010</td>\n",
       "    </tr>\n",
       "    <tr>\n",
       "      <th>829003</th>\n",
       "      <td>qp0dj5</td>\n",
       "      <td>1</td>\n",
       "      <td>2:0</td>\n",
       "      <td>0.066013</td>\n",
       "    </tr>\n",
       "    <tr>\n",
       "      <th>867254</th>\n",
       "      <td>qp0dj5</td>\n",
       "      <td>1</td>\n",
       "      <td>3:30</td>\n",
       "      <td>0.063128</td>\n",
       "    </tr>\n",
       "    <tr>\n",
       "      <th>884289</th>\n",
       "      <td>qp0dj5</td>\n",
       "      <td>1</td>\n",
       "      <td>22:45</td>\n",
       "      <td>0.027138</td>\n",
       "    </tr>\n",
       "    <tr>\n",
       "      <th>951066</th>\n",
       "      <td>qp0dj5</td>\n",
       "      <td>1</td>\n",
       "      <td>9:30</td>\n",
       "      <td>0.036359</td>\n",
       "    </tr>\n",
       "    <tr>\n",
       "      <th>1005808</th>\n",
       "      <td>qp0dj5</td>\n",
       "      <td>1</td>\n",
       "      <td>23:45</td>\n",
       "      <td>0.081104</td>\n",
       "    </tr>\n",
       "    <tr>\n",
       "      <th>1061485</th>\n",
       "      <td>qp0dj5</td>\n",
       "      <td>1</td>\n",
       "      <td>1:15</td>\n",
       "      <td>0.023249</td>\n",
       "    </tr>\n",
       "    <tr>\n",
       "      <th>1085484</th>\n",
       "      <td>qp0dj5</td>\n",
       "      <td>1</td>\n",
       "      <td>3:0</td>\n",
       "      <td>0.062848</td>\n",
       "    </tr>\n",
       "    <tr>\n",
       "      <th>1169463</th>\n",
       "      <td>qp0dj5</td>\n",
       "      <td>1</td>\n",
       "      <td>15:15</td>\n",
       "      <td>0.030872</td>\n",
       "    </tr>\n",
       "    <tr>\n",
       "      <th>1212133</th>\n",
       "      <td>qp0dj5</td>\n",
       "      <td>1</td>\n",
       "      <td>10:45</td>\n",
       "      <td>0.048525</td>\n",
       "    </tr>\n",
       "    <tr>\n",
       "      <th>1234019</th>\n",
       "      <td>qp0dj5</td>\n",
       "      <td>1</td>\n",
       "      <td>13:45</td>\n",
       "      <td>0.064590</td>\n",
       "    </tr>\n",
       "    <tr>\n",
       "      <th>1307839</th>\n",
       "      <td>qp0dj5</td>\n",
       "      <td>1</td>\n",
       "      <td>1:30</td>\n",
       "      <td>0.039611</td>\n",
       "    </tr>\n",
       "    <tr>\n",
       "      <th>1427474</th>\n",
       "      <td>qp0dj5</td>\n",
       "      <td>1</td>\n",
       "      <td>13:0</td>\n",
       "      <td>0.035301</td>\n",
       "    </tr>\n",
       "    <tr>\n",
       "      <th>1455556</th>\n",
       "      <td>qp0dj5</td>\n",
       "      <td>1</td>\n",
       "      <td>10:15</td>\n",
       "      <td>0.061543</td>\n",
       "    </tr>\n",
       "    <tr>\n",
       "      <th>1462046</th>\n",
       "      <td>qp0dj5</td>\n",
       "      <td>1</td>\n",
       "      <td>11:45</td>\n",
       "      <td>0.024427</td>\n",
       "    </tr>\n",
       "    <tr>\n",
       "      <th>1594534</th>\n",
       "      <td>qp0dj5</td>\n",
       "      <td>1</td>\n",
       "      <td>15:0</td>\n",
       "      <td>0.051947</td>\n",
       "    </tr>\n",
       "    <tr>\n",
       "      <th>...</th>\n",
       "      <td>...</td>\n",
       "      <td>...</td>\n",
       "      <td>...</td>\n",
       "      <td>...</td>\n",
       "    </tr>\n",
       "    <tr>\n",
       "      <th>2225843</th>\n",
       "      <td>qp0dj5</td>\n",
       "      <td>1</td>\n",
       "      <td>23:15</td>\n",
       "      <td>0.037076</td>\n",
       "    </tr>\n",
       "    <tr>\n",
       "      <th>2246850</th>\n",
       "      <td>qp0dj5</td>\n",
       "      <td>1</td>\n",
       "      <td>22:15</td>\n",
       "      <td>0.022857</td>\n",
       "    </tr>\n",
       "    <tr>\n",
       "      <th>2249249</th>\n",
       "      <td>qp0dj5</td>\n",
       "      <td>1</td>\n",
       "      <td>5:15</td>\n",
       "      <td>0.065103</td>\n",
       "    </tr>\n",
       "    <tr>\n",
       "      <th>2285406</th>\n",
       "      <td>qp0dj5</td>\n",
       "      <td>1</td>\n",
       "      <td>22:30</td>\n",
       "      <td>0.021044</td>\n",
       "    </tr>\n",
       "    <tr>\n",
       "      <th>2288969</th>\n",
       "      <td>qp0dj5</td>\n",
       "      <td>1</td>\n",
       "      <td>4:30</td>\n",
       "      <td>0.043522</td>\n",
       "    </tr>\n",
       "    <tr>\n",
       "      <th>2410269</th>\n",
       "      <td>qp0dj5</td>\n",
       "      <td>1</td>\n",
       "      <td>0:45</td>\n",
       "      <td>0.003598</td>\n",
       "    </tr>\n",
       "    <tr>\n",
       "      <th>2448976</th>\n",
       "      <td>qp0dj5</td>\n",
       "      <td>1</td>\n",
       "      <td>3:45</td>\n",
       "      <td>0.044847</td>\n",
       "    </tr>\n",
       "    <tr>\n",
       "      <th>2494728</th>\n",
       "      <td>qp0dj5</td>\n",
       "      <td>1</td>\n",
       "      <td>9:15</td>\n",
       "      <td>0.045620</td>\n",
       "    </tr>\n",
       "    <tr>\n",
       "      <th>2511013</th>\n",
       "      <td>qp0dj5</td>\n",
       "      <td>1</td>\n",
       "      <td>10:30</td>\n",
       "      <td>0.059179</td>\n",
       "    </tr>\n",
       "    <tr>\n",
       "      <th>2629733</th>\n",
       "      <td>qp0dj5</td>\n",
       "      <td>1</td>\n",
       "      <td>23:0</td>\n",
       "      <td>0.044122</td>\n",
       "    </tr>\n",
       "    <tr>\n",
       "      <th>2689776</th>\n",
       "      <td>qp0dj5</td>\n",
       "      <td>1</td>\n",
       "      <td>12:45</td>\n",
       "      <td>0.023191</td>\n",
       "    </tr>\n",
       "    <tr>\n",
       "      <th>2795509</th>\n",
       "      <td>qp0dj5</td>\n",
       "      <td>1</td>\n",
       "      <td>6:15</td>\n",
       "      <td>0.042530</td>\n",
       "    </tr>\n",
       "    <tr>\n",
       "      <th>3020155</th>\n",
       "      <td>qp0dj5</td>\n",
       "      <td>1</td>\n",
       "      <td>14:30</td>\n",
       "      <td>0.034682</td>\n",
       "    </tr>\n",
       "    <tr>\n",
       "      <th>3210575</th>\n",
       "      <td>qp0dj5</td>\n",
       "      <td>1</td>\n",
       "      <td>10:0</td>\n",
       "      <td>0.070787</td>\n",
       "    </tr>\n",
       "    <tr>\n",
       "      <th>3323292</th>\n",
       "      <td>qp0dj5</td>\n",
       "      <td>1</td>\n",
       "      <td>8:0</td>\n",
       "      <td>0.007812</td>\n",
       "    </tr>\n",
       "    <tr>\n",
       "      <th>3348356</th>\n",
       "      <td>qp0dj5</td>\n",
       "      <td>1</td>\n",
       "      <td>7:45</td>\n",
       "      <td>0.036807</td>\n",
       "    </tr>\n",
       "    <tr>\n",
       "      <th>3427800</th>\n",
       "      <td>qp0dj5</td>\n",
       "      <td>1</td>\n",
       "      <td>5:30</td>\n",
       "      <td>0.073953</td>\n",
       "    </tr>\n",
       "    <tr>\n",
       "      <th>3514205</th>\n",
       "      <td>qp0dj5</td>\n",
       "      <td>1</td>\n",
       "      <td>13:15</td>\n",
       "      <td>0.038364</td>\n",
       "    </tr>\n",
       "    <tr>\n",
       "      <th>3532999</th>\n",
       "      <td>qp0dj5</td>\n",
       "      <td>1</td>\n",
       "      <td>5:45</td>\n",
       "      <td>0.046863</td>\n",
       "    </tr>\n",
       "    <tr>\n",
       "      <th>3592629</th>\n",
       "      <td>qp0dj5</td>\n",
       "      <td>1</td>\n",
       "      <td>7:15</td>\n",
       "      <td>0.046175</td>\n",
       "    </tr>\n",
       "    <tr>\n",
       "      <th>3712637</th>\n",
       "      <td>qp0dj5</td>\n",
       "      <td>1</td>\n",
       "      <td>0:0</td>\n",
       "      <td>0.015363</td>\n",
       "    </tr>\n",
       "    <tr>\n",
       "      <th>3888164</th>\n",
       "      <td>qp0dj5</td>\n",
       "      <td>1</td>\n",
       "      <td>11:15</td>\n",
       "      <td>0.037664</td>\n",
       "    </tr>\n",
       "    <tr>\n",
       "      <th>3900196</th>\n",
       "      <td>qp0dj5</td>\n",
       "      <td>1</td>\n",
       "      <td>14:0</td>\n",
       "      <td>0.068067</td>\n",
       "    </tr>\n",
       "    <tr>\n",
       "      <th>3922215</th>\n",
       "      <td>qp0dj5</td>\n",
       "      <td>1</td>\n",
       "      <td>8:30</td>\n",
       "      <td>0.039084</td>\n",
       "    </tr>\n",
       "    <tr>\n",
       "      <th>3971925</th>\n",
       "      <td>qp0dj5</td>\n",
       "      <td>1</td>\n",
       "      <td>12:30</td>\n",
       "      <td>0.038431</td>\n",
       "    </tr>\n",
       "    <tr>\n",
       "      <th>3979239</th>\n",
       "      <td>qp0dj5</td>\n",
       "      <td>1</td>\n",
       "      <td>2:15</td>\n",
       "      <td>0.022729</td>\n",
       "    </tr>\n",
       "    <tr>\n",
       "      <th>3997513</th>\n",
       "      <td>qp0dj5</td>\n",
       "      <td>1</td>\n",
       "      <td>0:15</td>\n",
       "      <td>0.042202</td>\n",
       "    </tr>\n",
       "    <tr>\n",
       "      <th>4004099</th>\n",
       "      <td>qp0dj5</td>\n",
       "      <td>1</td>\n",
       "      <td>23:30</td>\n",
       "      <td>0.093769</td>\n",
       "    </tr>\n",
       "    <tr>\n",
       "      <th>4121642</th>\n",
       "      <td>qp0dj5</td>\n",
       "      <td>1</td>\n",
       "      <td>8:15</td>\n",
       "      <td>0.029694</td>\n",
       "    </tr>\n",
       "    <tr>\n",
       "      <th>4147337</th>\n",
       "      <td>qp0dj5</td>\n",
       "      <td>1</td>\n",
       "      <td>4:0</td>\n",
       "      <td>0.008698</td>\n",
       "    </tr>\n",
       "  </tbody>\n",
       "</table>\n",
       "<p>72 rows × 4 columns</p>\n",
       "</div>"
      ],
      "text/plain": [
       "        geohash6  day timestamp    demand\n",
       "80175     qp0dj5    1      0:30  0.029581\n",
       "118956    qp0dj5    1     15:30  0.037087\n",
       "197739    qp0dj5    1       5:0  0.067830\n",
       "290188    qp0dj5    1      7:30  0.019099\n",
       "367654    qp0dj5    1     21:30  0.003436\n",
       "457929    qp0dj5    1      1:45  0.049659\n",
       "462222    qp0dj5    1       9:0  0.025914\n",
       "462588    qp0dj5    1      12:0  0.070962\n",
       "565571    qp0dj5    1      3:15  0.013114\n",
       "592860    qp0dj5    1      9:45  0.047876\n",
       "624117    qp0dj5    1      2:30  0.053830\n",
       "646063    qp0dj5    1      6:30  0.042840\n",
       "672346    qp0dj5    1      4:45  0.078897\n",
       "687135    qp0dj5    1      8:45  0.043772\n",
       "757665    qp0dj5    1      2:45  0.031010\n",
       "829003    qp0dj5    1       2:0  0.066013\n",
       "867254    qp0dj5    1      3:30  0.063128\n",
       "884289    qp0dj5    1     22:45  0.027138\n",
       "951066    qp0dj5    1      9:30  0.036359\n",
       "1005808   qp0dj5    1     23:45  0.081104\n",
       "1061485   qp0dj5    1      1:15  0.023249\n",
       "1085484   qp0dj5    1       3:0  0.062848\n",
       "1169463   qp0dj5    1     15:15  0.030872\n",
       "1212133   qp0dj5    1     10:45  0.048525\n",
       "1234019   qp0dj5    1     13:45  0.064590\n",
       "1307839   qp0dj5    1      1:30  0.039611\n",
       "1427474   qp0dj5    1      13:0  0.035301\n",
       "1455556   qp0dj5    1     10:15  0.061543\n",
       "1462046   qp0dj5    1     11:45  0.024427\n",
       "1594534   qp0dj5    1      15:0  0.051947\n",
       "...          ...  ...       ...       ...\n",
       "2225843   qp0dj5    1     23:15  0.037076\n",
       "2246850   qp0dj5    1     22:15  0.022857\n",
       "2249249   qp0dj5    1      5:15  0.065103\n",
       "2285406   qp0dj5    1     22:30  0.021044\n",
       "2288969   qp0dj5    1      4:30  0.043522\n",
       "2410269   qp0dj5    1      0:45  0.003598\n",
       "2448976   qp0dj5    1      3:45  0.044847\n",
       "2494728   qp0dj5    1      9:15  0.045620\n",
       "2511013   qp0dj5    1     10:30  0.059179\n",
       "2629733   qp0dj5    1      23:0  0.044122\n",
       "2689776   qp0dj5    1     12:45  0.023191\n",
       "2795509   qp0dj5    1      6:15  0.042530\n",
       "3020155   qp0dj5    1     14:30  0.034682\n",
       "3210575   qp0dj5    1      10:0  0.070787\n",
       "3323292   qp0dj5    1       8:0  0.007812\n",
       "3348356   qp0dj5    1      7:45  0.036807\n",
       "3427800   qp0dj5    1      5:30  0.073953\n",
       "3514205   qp0dj5    1     13:15  0.038364\n",
       "3532999   qp0dj5    1      5:45  0.046863\n",
       "3592629   qp0dj5    1      7:15  0.046175\n",
       "3712637   qp0dj5    1       0:0  0.015363\n",
       "3888164   qp0dj5    1     11:15  0.037664\n",
       "3900196   qp0dj5    1      14:0  0.068067\n",
       "3922215   qp0dj5    1      8:30  0.039084\n",
       "3971925   qp0dj5    1     12:30  0.038431\n",
       "3979239   qp0dj5    1      2:15  0.022729\n",
       "3997513   qp0dj5    1      0:15  0.042202\n",
       "4004099   qp0dj5    1     23:30  0.093769\n",
       "4121642   qp0dj5    1      8:15  0.029694\n",
       "4147337   qp0dj5    1       4:0  0.008698\n",
       "\n",
       "[72 rows x 4 columns]"
      ]
     },
     "execution_count": 15,
     "metadata": {},
     "output_type": "execute_result"
    }
   ],
   "source": [
    "data[ (data['geohash6'] == 'qp0dj5') &  (data['day'] == 1)]"
   ]
  },
  {
   "cell_type": "code",
   "execution_count": 17,
   "metadata": {},
   "outputs": [],
   "source": [
    "daytime_list = []\n",
    "count = 0\n",
    "for day in range(1, 62):\n",
    "    for hour in range(0, 24):\n",
    "        for mins in [0, 15, 30, 45]:\n",
    "            \n",
    "            daytime = '{},{}:{}'.format(day, hour, mins)\n",
    "            daytime_list.append(daytime)\n",
    "            \n",
    "daytime_list = np.array(daytime_list)"
   ]
  },
  {
   "cell_type": "code",
   "execution_count": 18,
   "metadata": {},
   "outputs": [
    {
     "data": {
      "text/plain": [
       "array([0, 2, 4, 6, 8])"
      ]
     },
     "execution_count": 18,
     "metadata": {},
     "output_type": "execute_result"
    }
   ],
   "source": [
    "np.arange(0, 10, step=2)"
   ]
  },
  {
   "cell_type": "code",
   "execution_count": 189,
   "metadata": {},
   "outputs": [
    {
     "data": {
      "image/png": "[encoded data removed]",
      "text/plain": [
       "<Figure size 1584x576 with 1 Axes>"
      ]
     },
     "metadata": {
      "needs_background": "light"
     },
     "output_type": "display_data"
    }
   ],
   "source": [
    "steps = np.arange(0, len(daytime_list), step=24*4)\n",
    "steps = np.arange(0, 600, step=24*4)\n",
    "fig, ax = plt.subplots(figsize = (22,8))\n",
    "# ax.scatter(\n",
    "# \t\t\tnp.arange(len(daytime_dict)), \n",
    "# \t\t\tdata_array[:, 1299],s=4)\n",
    "# plt.plot(data_array[:500, 1299])\n",
    "# plt.plot(data_array[:500, 1200])\n",
    "# plt.plot(data_array[:500, 1309])\n",
    "# plt.plot(data_array[:500, 1299])\n",
    "# plt.plot(data_array[:500, 100])\n",
    "# plt.plot(data_array[:600, 400])\n",
    "# plt.plot(data_array[:600, 401])\n",
    "# plt.plot(data_array[:600, 405])\n",
    "# plt.plot(data_array[:600, 403])\n",
    "plt.plot(data_array[:600, 799])\n",
    "# plt.plot(data_array[:600, 1])\n",
    "# plt.plot(smooth_450)\n",
    "# plt.plot(b[:300])\n",
    "# plt.plot(data_array[:, 1200])\n",
    "plt.plot(data_array[:600, 800])\n",
    "plt.xticks( steps , daytime_list[steps.tolist()], rotation=90 )\n",
    "plt.show()"
   ]
  },
  {
   "cell_type": "code",
   "execution_count": 100,
   "metadata": {},
   "outputs": [
    {
     "ename": "ZeroDivisionError",
     "evalue": "division by zero",
     "output_type": "error",
     "traceback": [
      "\u001b[0;31m---------------------------------------------------------------------------\u001b[0m",
      "\u001b[0;31mZeroDivisionError\u001b[0m                         Traceback (most recent call last)",
      "\u001b[0;32m<ipython-input-100-9ab73e148374>\u001b[0m in \u001b[0;36m<module>\u001b[0;34m\u001b[0m\n\u001b[0;32m----> 1\u001b[0;31m \u001b[0;36m0\u001b[0m\u001b[0;34m/\u001b[0m\u001b[0;36m0\u001b[0m\u001b[0;34m\u001b[0m\u001b[0m\n\u001b[0m",
      "\u001b[0;31mZeroDivisionError\u001b[0m: division by zero"
     ]
    }
   ],
   "source": [
    "0/0"
   ]
  },
  {
   "cell_type": "code",
   "execution_count": 27,
   "metadata": {},
   "outputs": [
    {
     "data": {
      "text/plain": [
       "array([0.02348429, 0.00234344, 0.02358411, 0.09210261, 0.03463199,\n",
       "       0.02105501, 0.12222825, 0.04415784, 0.08995866, 0.13944927])"
      ]
     },
     "execution_count": 27,
     "metadata": {},
     "output_type": "execute_result"
    }
   ],
   "source": [
    "data_array[:10, 450]"
   ]
  },
  {
   "cell_type": "code",
   "execution_count": 38,
   "metadata": {},
   "outputs": [
    {
     "data": {
      "text/plain": [
       "array([0.        , 0.        , 0.06930635, 0.02213623, 0.0208335 ,\n",
       "       0.04904458, 0.07532632, 0.10722598, 0.02788407, 0.04377317])"
      ]
     },
     "execution_count": 38,
     "metadata": {},
     "output_type": "execute_result"
    }
   ],
   "source": [
    "data_array[:10, 451]"
   ]
  },
  {
   "cell_type": "code",
   "execution_count": 41,
   "metadata": {},
   "outputs": [],
   "source": [
    "fa = pd.DataFrame({'a':data_array[:10, 450],'b':data_array[:10, 451]} )"
   ]
  },
  {
   "cell_type": "code",
   "execution_count": 42,
   "metadata": {},
   "outputs": [
    {
     "data": {
      "text/html": [
       "<div>\n",
       "<style scoped>\n",
       "    .dataframe tbody tr th:only-of-type {\n",
       "        vertical-align: middle;\n",
       "    }\n",
       "\n",
       "    .dataframe tbody tr th {\n",
       "        vertical-align: top;\n",
       "    }\n",
       "\n",
       "    .dataframe thead th {\n",
       "        text-align: right;\n",
       "    }\n",
       "</style>\n",
       "<table border=\"1\" class=\"dataframe\">\n",
       "  <thead>\n",
       "    <tr style=\"text-align: right;\">\n",
       "      <th></th>\n",
       "      <th>a</th>\n",
       "      <th>b</th>\n",
       "    </tr>\n",
       "  </thead>\n",
       "  <tbody>\n",
       "    <tr>\n",
       "      <th>0</th>\n",
       "      <td>NaN</td>\n",
       "      <td>NaN</td>\n",
       "    </tr>\n",
       "    <tr>\n",
       "      <th>1</th>\n",
       "      <td>NaN</td>\n",
       "      <td>NaN</td>\n",
       "    </tr>\n",
       "    <tr>\n",
       "      <th>2</th>\n",
       "      <td>0.016471</td>\n",
       "      <td>0.023102</td>\n",
       "    </tr>\n",
       "    <tr>\n",
       "      <th>3</th>\n",
       "      <td>0.039343</td>\n",
       "      <td>0.030481</td>\n",
       "    </tr>\n",
       "    <tr>\n",
       "      <th>4</th>\n",
       "      <td>0.050106</td>\n",
       "      <td>0.037425</td>\n",
       "    </tr>\n",
       "    <tr>\n",
       "      <th>5</th>\n",
       "      <td>0.049263</td>\n",
       "      <td>0.030671</td>\n",
       "    </tr>\n",
       "    <tr>\n",
       "      <th>6</th>\n",
       "      <td>0.059305</td>\n",
       "      <td>0.048401</td>\n",
       "    </tr>\n",
       "    <tr>\n",
       "      <th>7</th>\n",
       "      <td>0.062480</td>\n",
       "      <td>0.077199</td>\n",
       "    </tr>\n",
       "    <tr>\n",
       "      <th>8</th>\n",
       "      <td>0.085448</td>\n",
       "      <td>0.070145</td>\n",
       "    </tr>\n",
       "    <tr>\n",
       "      <th>9</th>\n",
       "      <td>0.091189</td>\n",
       "      <td>0.059628</td>\n",
       "    </tr>\n",
       "  </tbody>\n",
       "</table>\n",
       "</div>"
      ],
      "text/plain": [
       "          a         b\n",
       "0       NaN       NaN\n",
       "1       NaN       NaN\n",
       "2  0.016471  0.023102\n",
       "3  0.039343  0.030481\n",
       "4  0.050106  0.037425\n",
       "5  0.049263  0.030671\n",
       "6  0.059305  0.048401\n",
       "7  0.062480  0.077199\n",
       "8  0.085448  0.070145\n",
       "9  0.091189  0.059628"
      ]
     },
     "execution_count": 42,
     "metadata": {},
     "output_type": "execute_result"
    }
   ],
   "source": [
    "fa.rolling(window = 3).mean()"
   ]
  },
  {
   "cell_type": "code",
   "execution_count": 101,
   "metadata": {},
   "outputs": [],
   "source": [
    "rolling_size = 20\n",
    "smooth_450 = pd.DataFrame(data_array[:600, 450]).rolling(window = rolling_size).mean()"
   ]
  },
  {
   "cell_type": "code",
   "execution_count": 102,
   "metadata": {},
   "outputs": [
    {
     "data": {
      "text/html": [
       "<div>\n",
       "<style scoped>\n",
       "    .dataframe tbody tr th:only-of-type {\n",
       "        vertical-align: middle;\n",
       "    }\n",
       "\n",
       "    .dataframe tbody tr th {\n",
       "        vertical-align: top;\n",
       "    }\n",
       "\n",
       "    .dataframe thead th {\n",
       "        text-align: right;\n",
       "    }\n",
       "</style>\n",
       "<table border=\"1\" class=\"dataframe\">\n",
       "  <thead>\n",
       "    <tr style=\"text-align: right;\">\n",
       "      <th></th>\n",
       "      <th>0</th>\n",
       "    </tr>\n",
       "  </thead>\n",
       "  <tbody>\n",
       "    <tr>\n",
       "      <th>0</th>\n",
       "      <td>NaN</td>\n",
       "    </tr>\n",
       "    <tr>\n",
       "      <th>1</th>\n",
       "      <td>NaN</td>\n",
       "    </tr>\n",
       "    <tr>\n",
       "      <th>2</th>\n",
       "      <td>NaN</td>\n",
       "    </tr>\n",
       "    <tr>\n",
       "      <th>3</th>\n",
       "      <td>NaN</td>\n",
       "    </tr>\n",
       "    <tr>\n",
       "      <th>4</th>\n",
       "      <td>NaN</td>\n",
       "    </tr>\n",
       "  </tbody>\n",
       "</table>\n",
       "</div>"
      ],
      "text/plain": [
       "    0\n",
       "0 NaN\n",
       "1 NaN\n",
       "2 NaN\n",
       "3 NaN\n",
       "4 NaN"
      ]
     },
     "execution_count": 102,
     "metadata": {},
     "output_type": "execute_result"
    }
   ],
   "source": [
    "smooth_450.head()"
   ]
  },
  {
   "cell_type": "code",
   "execution_count": 103,
   "metadata": {},
   "outputs": [],
   "source": [
    "b = data_array[:rolling_size - 1, [450]]"
   ]
  },
  {
   "cell_type": "code",
   "execution_count": 104,
   "metadata": {},
   "outputs": [
    {
     "data": {
      "text/plain": [
       "(19, 1)"
      ]
     },
     "execution_count": 104,
     "metadata": {},
     "output_type": "execute_result"
    }
   ],
   "source": [
    "b.shape"
   ]
  },
  {
   "cell_type": "code",
   "execution_count": 105,
   "metadata": {},
   "outputs": [],
   "source": [
    "a = np.array(smooth_450.iloc[rolling_size - 1:])"
   ]
  },
  {
   "cell_type": "code",
   "execution_count": 106,
   "metadata": {},
   "outputs": [],
   "source": [
    "smooth_450 = np.concatenate([b, a], axis = 0)"
   ]
  },
  {
   "cell_type": "code",
   "execution_count": 72,
   "metadata": {},
   "outputs": [
    {
     "data": {
      "text/plain": [
       "(4, 2)"
      ]
     },
     "execution_count": 72,
     "metadata": {},
     "output_type": "execute_result"
    }
   ],
   "source": [
    "b.shape"
   ]
  },
  {
   "cell_type": "code",
   "execution_count": 45,
   "metadata": {},
   "outputs": [],
   "source": [
    "a = np.arange(0, 1, step = 1/96.).tolist()"
   ]
  },
  {
   "cell_type": "code",
   "execution_count": 46,
   "metadata": {},
   "outputs": [],
   "source": [
    "b = a*61"
   ]
  },
  {
   "cell_type": "code",
   "execution_count": 108,
   "metadata": {},
   "outputs": [],
   "source": [
    "a = np.random.rand(3,5)"
   ]
  },
  {
   "cell_type": "code",
   "execution_count": 116,
   "metadata": {},
   "outputs": [],
   "source": [
    "a[:, 0] = 0"
   ]
  },
  {
   "cell_type": "code",
   "execution_count": 117,
   "metadata": {},
   "outputs": [
    {
     "data": {
      "text/plain": [
       "array([[0.        , 0.18936715, 0.22558321, 0.30229096, 0.50960287],\n",
       "       [0.        , 0.91681921, 0.92105231, 0.3616367 , 0.5373782 ],\n",
       "       [0.        , 0.67795304, 0.38662487, 0.03651896, 0.45595424]])"
      ]
     },
     "execution_count": 117,
     "metadata": {},
     "output_type": "execute_result"
    }
   ],
   "source": [
    "a"
   ]
  },
  {
   "cell_type": "code",
   "execution_count": 118,
   "metadata": {},
   "outputs": [],
   "source": [
    "max_a = np.max(a, axis = 0)\n",
    "min_a = np.min(a, axis = 0)\n",
    "range_a = max_a - min_a"
   ]
  },
  {
   "cell_type": "code",
   "execution_count": 121,
   "metadata": {},
   "outputs": [
    {
     "data": {
      "text/plain": [
       "array([0.        , 0.18936715, 0.22558321, 0.03651896, 0.45595424])"
      ]
     },
     "execution_count": 121,
     "metadata": {},
     "output_type": "execute_result"
    }
   ],
   "source": [
    "min_a"
   ]
  },
  {
   "cell_type": "code",
   "execution_count": 119,
   "metadata": {},
   "outputs": [
    {
     "data": {
      "text/plain": [
       "array([0.        , 0.72745206, 0.6954691 , 0.32511774, 0.08142396])"
      ]
     },
     "execution_count": 119,
     "metadata": {},
     "output_type": "execute_result"
    }
   ],
   "source": [
    "range_a"
   ]
  },
  {
   "cell_type": "code",
   "execution_count": 124,
   "metadata": {},
   "outputs": [
    {
     "name": "stderr",
     "output_type": "stream",
     "text": [
      "/usr/local/lib/python3.5/dist-packages/ipykernel_launcher.py:1: RuntimeWarning: invalid value encountered in true_divide\n",
      "  \"\"\"Entry point for launching an IPython kernel.\n"
     ]
    },
    {
     "data": {
      "text/plain": [
       "array([[       nan, 0.        , 0.        , 0.81746384, 0.65888024],\n",
       "       [       nan, 1.        , 1.        , 1.        , 1.        ],\n",
       "       [       nan, 0.67163998, 0.23155833, 0.        , 0.        ]])"
      ]
     },
     "execution_count": 124,
     "metadata": {},
     "output_type": "execute_result"
    }
   ],
   "source": [
    "(a - min_a)/ range_a"
   ]
  },
  {
   "cell_type": "code",
   "execution_count": 126,
   "metadata": {},
   "outputs": [],
   "source": [
    "a_norm = (a - min_a)/ (range_a + 1e-09)"
   ]
  },
  {
   "cell_type": "code",
   "execution_count": 127,
   "metadata": {},
   "outputs": [
    {
     "data": {
      "text/plain": [
       "array([[0.        , 0.18936715, 0.22558321, 0.30229096, 0.50960287],\n",
       "       [0.        , 0.91681921, 0.92105231, 0.3616367 , 0.5373782 ],\n",
       "       [0.        , 0.67795304, 0.38662487, 0.03651896, 0.45595424]])"
      ]
     },
     "execution_count": 127,
     "metadata": {},
     "output_type": "execute_result"
    }
   ],
   "source": [
    "a_norm * (range_a + 1e-09) + min_a"
   ]
  },
  {
   "cell_type": "code",
   "execution_count": 128,
   "metadata": {},
   "outputs": [
    {
     "data": {
      "text/plain": [
       "(3, 5)"
      ]
     },
     "execution_count": 128,
     "metadata": {},
     "output_type": "execute_result"
    }
   ],
   "source": [
    "a_norm.shape"
   ]
  },
  {
   "cell_type": "code",
   "execution_count": 130,
   "metadata": {},
   "outputs": [
    {
     "data": {
      "text/plain": [
       "(5,)"
      ]
     },
     "execution_count": 130,
     "metadata": {},
     "output_type": "execute_result"
    }
   ],
   "source": [
    "range_a .shape"
   ]
  },
  {
   "cell_type": "code",
   "execution_count": 123,
   "metadata": {},
   "outputs": [
    {
     "data": {
      "text/plain": [
       "0.265772"
      ]
     },
     "execution_count": 123,
     "metadata": {},
     "output_type": "execute_result"
    }
   ],
   "source": [
    "0.30229096 - 0.03651896"
   ]
  },
  {
   "cell_type": "code",
   "execution_count": 285,
   "metadata": {},
   "outputs": [
    {
     "data": {
      "text/plain": [
       "(5856, 1329)"
      ]
     },
     "execution_count": 285,
     "metadata": {},
     "output_type": "execute_result"
    }
   ],
   "source": [
    "data_array.shape"
   ]
  },
  {
   "cell_type": "code",
   "execution_count": 272,
   "metadata": {},
   "outputs": [
    {
     "data": {
      "text/plain": [
       "array(['1,0:0', '2,0:0', '3,0:0', '4,0:0', '5,0:0', '6,0:0', '7,0:0',\n",
       "       '8,0:0', '9,0:0', '10,0:0', '11,0:0', '12,0:0', '13,0:0', '14,0:0',\n",
       "       '15,0:0', '16,0:0', '17,0:0', '18,0:0', '19,0:0', '20,0:0',\n",
       "       '21,0:0', '22,0:0', '23,0:0', '24,0:0', '25,0:0', '26,0:0',\n",
       "       '27,0:0', '28,0:0', '29,0:0', '30,0:0', '31,0:0', '32,0:0',\n",
       "       '33,0:0', '34,0:0', '35,0:0', '36,0:0', '37,0:0', '38,0:0',\n",
       "       '39,0:0', '40,0:0', '41,0:0', '42,0:0', '43,0:0', '44,0:0',\n",
       "       '45,0:0', '46,0:0', '47,0:0', '48,0:0', '49,0:0', '50,0:0',\n",
       "       '51,0:0', '52,0:0', '53,0:0', '54,0:0', '55,0:0', '56,0:0',\n",
       "       '57,0:0', '58,0:0', '59,0:0', '60,0:0', '61,0:0'], dtype='<U8')"
      ]
     },
     "execution_count": 272,
     "metadata": {},
     "output_type": "execute_result"
    }
   ],
   "source": [
    "daytime_list[np.arange(0, len(daytime_list), step=24*4).tolist()]"
   ]
  },
  {
   "cell_type": "code",
   "execution_count": 254,
   "metadata": {},
   "outputs": [
    {
     "ename": "TypeError",
     "evalue": "'list' object is not callable",
     "output_type": "error",
     "traceback": [
      "\u001b[0;31m---------------------------------------------------------------------------\u001b[0m",
      "\u001b[0;31mTypeError\u001b[0m                                 Traceback (most recent call last)",
      "\u001b[0;32m<ipython-input-254-fcf2bb8077d9>\u001b[0m in \u001b[0;36m<module>\u001b[0;34m\u001b[0m\n\u001b[0;32m----> 1\u001b[0;31m \u001b[0mdaytime_list\u001b[0m\u001b[0;34m(\u001b[0m\u001b[0mnp\u001b[0m\u001b[0;34m.\u001b[0m\u001b[0marange\u001b[0m\u001b[0;34m(\u001b[0m\u001b[0;36m0\u001b[0m\u001b[0;34m,\u001b[0m \u001b[0mlen\u001b[0m\u001b[0;34m(\u001b[0m\u001b[0mdaytime_list\u001b[0m\u001b[0;34m)\u001b[0m\u001b[0;34m,\u001b[0m \u001b[0mstep\u001b[0m\u001b[0;34m=\u001b[0m\u001b[0;36m200\u001b[0m\u001b[0;34m)\u001b[0m\u001b[0;34m.\u001b[0m\u001b[0mtolist\u001b[0m\u001b[0;34m(\u001b[0m\u001b[0;34m)\u001b[0m\u001b[0;34m)\u001b[0m\u001b[0;34m\u001b[0m\u001b[0m\n\u001b[0m",
      "\u001b[0;31mTypeError\u001b[0m: 'list' object is not callable"
     ]
    }
   ],
   "source": [
    "daytime_list(np.arange(0, len(daytime_list), step=200).tolist())"
   ]
  },
  {
   "cell_type": "code",
   "execution_count": 253,
   "metadata": {},
   "outputs": [
    {
     "data": {
      "text/plain": [
       "[0,\n",
       " 200,\n",
       " 400,\n",
       " 600,\n",
       " 800,\n",
       " 1000,\n",
       " 1200,\n",
       " 1400,\n",
       " 1600,\n",
       " 1800,\n",
       " 2000,\n",
       " 2200,\n",
       " 2400,\n",
       " 2600,\n",
       " 2800,\n",
       " 3000,\n",
       " 3200,\n",
       " 3400,\n",
       " 3600,\n",
       " 3800,\n",
       " 4000,\n",
       " 4200,\n",
       " 4400,\n",
       " 4600,\n",
       " 4800,\n",
       " 5000,\n",
       " 5200,\n",
       " 5400,\n",
       " 5600,\n",
       " 5800]"
      ]
     },
     "execution_count": 253,
     "metadata": {},
     "output_type": "execute_result"
    }
   ],
   "source": [
    "np.arange(0, len(daytime_list), step=200).tolist()"
   ]
  },
  {
   "cell_type": "code",
   "execution_count": 256,
   "metadata": {},
   "outputs": [
    {
     "ename": "IndexError",
     "evalue": "too many indices for array",
     "output_type": "error",
     "traceback": [
      "\u001b[0;31m---------------------------------------------------------------------------\u001b[0m",
      "\u001b[0;31mIndexError\u001b[0m                                Traceback (most recent call last)",
      "\u001b[0;32m<ipython-input-256-4414aa4d50e0>\u001b[0m in \u001b[0;36m<module>\u001b[0;34m\u001b[0m\n\u001b[0;32m----> 1\u001b[0;31m \u001b[0mnp\u001b[0m\u001b[0;34m.\u001b[0m\u001b[0marray\u001b[0m\u001b[0;34m(\u001b[0m\u001b[0mdaytime_list\u001b[0m\u001b[0;34m)\u001b[0m\u001b[0;34m[\u001b[0m\u001b[0;36m0\u001b[0m\u001b[0;34m,\u001b[0m\u001b[0;36m2\u001b[0m\u001b[0;34m]\u001b[0m\u001b[0;34m\u001b[0m\u001b[0m\n\u001b[0m",
      "\u001b[0;31mIndexError\u001b[0m: too many indices for array"
     ]
    }
   ],
   "source": [
    "np.array(daytime_list)[0,2]"
   ]
  },
  {
   "cell_type": "code",
   "execution_count": 268,
   "metadata": {},
   "outputs": [],
   "source": [
    "a = np.array(daytime_list)"
   ]
  },
  {
   "cell_type": "code",
   "execution_count": 266,
   "metadata": {},
   "outputs": [
    {
     "name": "stdout",
     "output_type": "stream",
     "text": [
      "['hi', '5', '5']\n"
     ]
    }
   ],
   "source": [
    "a = np.array([-2, 'hi', 5, 3, 8, 5, 6])\n",
    "b = [1, 2, 5]\n",
    "print(list(a[b]))"
   ]
  },
  {
   "cell_type": "code",
   "execution_count": 269,
   "metadata": {},
   "outputs": [
    {
     "data": {
      "text/plain": [
       "(5856,)"
      ]
     },
     "execution_count": 269,
     "metadata": {},
     "output_type": "execute_result"
    }
   ],
   "source": [
    "a.shape"
   ]
  },
  {
   "cell_type": "code",
   "execution_count": 270,
   "metadata": {},
   "outputs": [
    {
     "data": {
      "text/plain": [
       "array(['1,0:15', '1,0:30'], dtype='<U8')"
      ]
     },
     "execution_count": 270,
     "metadata": {},
     "output_type": "execute_result"
    }
   ],
   "source": [
    "a[[1,2]]"
   ]
  },
  {
   "cell_type": "code",
   "execution_count": 261,
   "metadata": {},
   "outputs": [
    {
     "data": {
      "text/plain": [
       "array([1, 5, 5])"
      ]
     },
     "execution_count": 261,
     "metadata": {},
     "output_type": "execute_result"
    }
   ],
   "source": [
    "a[b]"
   ]
  },
  {
   "cell_type": "code",
   "execution_count": 237,
   "metadata": {},
   "outputs": [
    {
     "data": {
      "text/plain": [
       "[<matplotlib.lines.Line2D at 0x7f377fc56ba8>]"
      ]
     },
     "execution_count": 237,
     "metadata": {},
     "output_type": "execute_result"
    },
    {
     "data": {
      "image/png": "[encoded data removed]",
      "text/plain": [
       "<Figure size 1080x576 with 1 Axes>"
      ]
     },
     "metadata": {
      "needs_background": "light"
     },
     "output_type": "display_data"
    }
   ],
   "source": [
    "fig, ax = plt.subplots(figsize = (15,8))\n",
    "# ax.scatter(\n",
    "# \t\t\tnp.arange(len(daytime_dict)), \n",
    "# \t\t\tdata_array[:, 1299],s=4)\n",
    "plt.plot(data_array[:, 0])"
   ]
  },
  {
   "cell_type": "code",
   "execution_count": 238,
   "metadata": {},
   "outputs": [
    {
     "data": {
      "text/plain": [
       "1.0"
      ]
     },
     "execution_count": 238,
     "metadata": {},
     "output_type": "execute_result"
    }
   ],
   "source": [
    "np.max(data_array)"
   ]
  },
  {
   "cell_type": "code",
   "execution_count": null,
   "metadata": {},
   "outputs": [],
   "source": [
    "meta = pd.concat([meta_train, meta_test, meta_valid], axis = 0)\n",
    "    meta = clean_data(meta)\n",
    "    \n",
    "    meta_corr = meta.corr(method='pearson').iloc[:, [0]]\n",
    "    meta_corr = meta_corr.fillna(0)\n",
    "    features  = list(meta_corr.index)[:] \n",
    "\n",
    "\n",
    "    fig, ax = plt.subplots(figsize = (100,5))\n",
    "\n",
    "    plt.xticks(range(len(features)),  features, rotation=90)\n",
    "    plt.plot(list(meta_corr.iloc[:,0]))\n",
    "    # plt.plot(np.zeros(len(features)), linestyle = \":\")\n",
    "    ax.axhline(y=correlation_mark, linestyle = \":\", color = 'r')\n",
    "    ax.axhline(y= 0.0, linestyle = \":\", color = 'r')\n",
    "    ax.axhline(y= -correlation_mark, linestyle = \":\", color = 'r')\n",
    "    ax.set_ylim(-0.5, 0.5)\n",
    "    plt.show()\n",
    "    \n",
    "    \n",
    "    ############## feature selection #################\n",
    "    features_select = []\n",
    "    for i in range(len(list(meta_corr.iloc[:,0]))):\n",
    "        if abs(list(meta_corr.iloc[:,0])[i]) >= correlation_mark:\n",
    "\t\t\tprint feature[i], list(meta_corr.iloc[:,0])[i]\n",
    "\t\t\tfeatures_select.append(features[i])\n",
    "            \n",
    "    print 'number of features: {}'.format(len(features_select))\n",
    "    print features_select\n",
    "    meta_train = clean_data(meta_train)\n",
    "    meta_test = clean_data(meta_test)\n",
    "    meta_valid = clean_data(meta_valid)\n",
    "\n",
    "    meta_train_select = meta_train[features_select]\n",
    "    meta_test_select = meta_test[features_select]\n",
    "    meta_valid_select = meta_valid[features_select]\n",
    "    \n",
    "    return meta_train_select, meta_test_select, meta_valid_select"
   ]
  },
  {
   "cell_type": "code",
   "execution_count": 5,
   "metadata": {},
   "outputs": [],
   "source": [
    "hf = h5py.File('processed_data/test_processed.h5', 'r')\n",
    "test = hf.get('data')[:]"
   ]
  },
  {
   "cell_type": "code",
   "execution_count": 7,
   "metadata": {},
   "outputs": [
    {
     "data": {
      "text/plain": [
       "(5856, 1329)"
      ]
     },
     "execution_count": 7,
     "metadata": {},
     "output_type": "execute_result"
    }
   ],
   "source": [
    "test.shape"
   ]
  }
 ],
 "metadata": {
  "kernelspec": {
   "display_name": "Python 3",
   "language": "python",
   "name": "python3"
  },
  "language_info": {
   "codemirror_mode": {
    "name": "ipython",
    "version": 3
   },
   "file_extension": ".py",
   "mimetype": "text/x-python",
   "name": "python",
   "nbconvert_exporter": "python",
   "pygments_lexer": "ipython3",
   "version": "3.6.5"
  }
 },
 "nbformat": 4,
 "nbformat_minor": 2
}
